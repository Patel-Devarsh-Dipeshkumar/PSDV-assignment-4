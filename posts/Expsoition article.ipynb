{
 "cells": [
  {
   "cell_type": "raw",
   "id": "cb15ea9e-9fb3-4e48-a194-49f876add034",
   "metadata": {
    "vscode": {
     "languageId": "raw"
    }
   },
   "source": [
    "---\n",
    "author: Patel Devarsh Dipeshkumar\n",
    "badges: true\n",
    "categories:\n",
    "- ML\n",
    "date: '2025-02-22'\n",
    "title: \"Sympy Combinatorics\"\n",
    "toc: true\n",
    "---\n"
   ]
  },
  {
   "cell_type": "markdown",
   "id": "aWJWiE17QPv9",
   "metadata": {
    "id": "aWJWiE17QPv9"
   },
   "source": [
    "<h1 style=\"font-weight: bold; text-align: center;\">Sympy Combinatorics</h1>\n"
   ]
  },
  {
   "cell_type": "markdown",
   "id": "a90ea041-3602-4023-9d62-9339ef7574ad",
   "metadata": {
    "id": "a90ea041-3602-4023-9d62-9339ef7574ad"
   },
   "source": [
    "<h4 style=\"font-weight: 400; line-height: 1.6; font-size: 18px;\">\n",
    "    SymPy is an open-source Python library for symbolic mathematics. It allows users to perform algebraic computations, solve equations, manipulate expressions, and work with calculus, linear algebra, and more.\n",
    "</h4>\n"
   ]
  },
  {
   "cell_type": "markdown",
   "id": "2722b3bd-4d0c-486d-8bc3-749b8158799f",
   "metadata": {
    "id": "2722b3bd-4d0c-486d-8bc3-749b8158799f"
   },
   "source": [
    "<center>\n",
    "    <h4 style=\"font-size: 23px; font weight: bold\">Introduction to SymPy Combinatorics</h4>\n",
    "</center>"
   ]
  },
  {
   "cell_type": "markdown",
   "id": "3066e155-1581-4c2a-a7db-84bc1ceac7ed",
   "metadata": {
    "id": "3066e155-1581-4c2a-a7db-84bc1ceac7ed"
   },
   "source": [
    "<h4 style=\"font-weight: 400; line-height: 1.6;font-size: 18px;\">SymPy's Combinatorics module provides tools for working with partitions, permutations, and other discrete structures in mathematics. It is useful in combinatorial problems, group theory, and counting principles.</h4>\n"
   ]
  },
  {
   "cell_type": "markdown",
   "id": "1c1f1570-f5c3-43a4-9cc5-17516b4ac68e",
   "metadata": {
    "id": "1c1f1570-f5c3-43a4-9cc5-17516b4ac68e"
   },
   "source": [
    "<center>\n",
    "    <h4 style=\"font-size: 23px;\">Installation Steps</h4>\n",
    "</center>"
   ]
  },
  {
   "cell_type": "markdown",
   "id": "0b41830e-dd01-4b89-a5ec-5285e7da881a",
   "metadata": {
    "id": "0b41830e-dd01-4b89-a5ec-5285e7da881a"
   },
   "source": [
    "\n",
    "<h4 style=\"font-weight: 400; line-height: 1.6;font-size: 18px;\">Sympy could be installed with the help of pip which is Python Package Manager</h4><br>"
   ]
  },
  {
   "cell_type": "markdown",
   "id": "td5QrRDhSj98",
   "metadata": {
    "id": "td5QrRDhSj98"
   },
   "source": [
    "<p style=\"font-weight: 400; line-height: 1.6; color: #333333;\">\n",
    "    <strong style=\"font-size: 20px;\">1. Install Using pip</strong><br>  <!-- Increased font size and added spacing -->\n",
    "    Open a terminal or command prompt and run: <code>pip install sympy</code>\n",
    "</p>\n",
    "\n"
   ]
  },
  {
   "cell_type": "code",
   "execution_count": 1,
   "id": "c2a4e7a2-e131-41a4-a9bd-434f6209b285",
   "metadata": {
    "colab": {
     "base_uri": "https://localhost:8080/"
    },
    "id": "c2a4e7a2-e131-41a4-a9bd-434f6209b285",
    "outputId": "cde29587-44e3-4d8b-b58f-83e3b7948f89"
   },
   "outputs": [
    {
     "name": "stdout",
     "output_type": "stream",
     "text": [
      "Requirement already satisfied: sympy in c:\\users\\hp\\appdata\\local\\programs\\python\\python312\\lib\\site-packages (1.13.3)\n",
      "Requirement already satisfied: mpmath<1.4,>=1.1.0 in c:\\users\\hp\\appdata\\local\\programs\\python\\python312\\lib\\site-packages (from sympy) (1.3.0)\n",
      "Note: you may need to restart the kernel to use updated packages.\n"
     ]
    },
    {
     "name": "stderr",
     "output_type": "stream",
     "text": [
      "\n",
      "[notice] A new release of pip is available: 24.0 -> 25.0.1\n",
      "[notice] To update, run: python.exe -m pip install --upgrade pip\n"
     ]
    }
   ],
   "source": [
    "pip install sympy"
   ]
  },
  {
   "cell_type": "markdown",
   "id": "XdQTjXbcSugy",
   "metadata": {
    "id": "XdQTjXbcSugy"
   },
   "source": [
    "\n",
    "\n",
    "<p style=\"font-weight: 400; line-height: 1.6; color: #333333;\">\n",
    "    <strong style=\"font-size: 20px;\">2. Verify Installation</strong><br>  <!-- Increased font size and added spacing -->\n",
    "     After installation, open Python and type\n",
    "</p>\n"
   ]
  },
  {
   "cell_type": "code",
   "execution_count": 2,
   "id": "92ac74e1-6eee-49fd-9187-fd4a646926c5",
   "metadata": {
    "colab": {
     "base_uri": "https://localhost:8080/"
    },
    "id": "92ac74e1-6eee-49fd-9187-fd4a646926c5",
    "outputId": "f0d4604e-cf60-4c35-9edf-697eb3d24a15"
   },
   "outputs": [
    {
     "name": "stdout",
     "output_type": "stream",
     "text": [
      "1.13.3\n"
     ]
    }
   ],
   "source": [
    "import sympy\n",
    "print(sympy.__version__)  # It should print the installed SymPy version"
   ]
  },
  {
   "cell_type": "markdown",
   "id": "d438359e-5cef-482c-8a87-5a1ebf48862a",
   "metadata": {
    "id": "d438359e-5cef-482c-8a87-5a1ebf48862a"
   },
   "source": [
    "<br>\n",
    "<center>\n",
    "    <h3 style=\"font-size: 23px;\">Topic 1:- Partition</h3>\n",
    "</center>"
   ]
  },
  {
   "cell_type": "markdown",
   "id": "a7fb62e6-51d2-494d-bc92-7ecaf03c2ca0",
   "metadata": {
    "id": "a7fb62e6-51d2-494d-bc92-7ecaf03c2ca0"
   },
   "source": [
    "\n",
    "<h4 style=\"font-weight: 400; line-height: 1.6;\">In simple words, a partition is a set of disjoint sets whose union equals a given set.</h4>\n"
   ]
  },
  {
   "cell_type": "markdown",
   "id": "226dbe57-397a-4fef-a939-050f9922e98f",
   "metadata": {
    "id": "226dbe57-397a-4fef-a939-050f9922e98f"
   },
   "source": [
    "<h3 style=\"font-weight: 400; line-height: 1.6; font-size: 18px;\">\n",
    "Problem 1) Imagine a teacher has 6 students: {1, 2, 3, 4, 5, 6} and wants to divide them into study groups based on their subject preferences. Each student belongs to exactly one group.<br><br>\n",
    "    Group 0 (Math Lovers) → {1, 2, 3};<br>\n",
    "    Group 1 (Science Enthusiasts) → {4, 5};<br>\n",
    "    Group 2 (History Buffs) → {6}\n",
    "</h3>\n"
   ]
  },
  {
   "cell_type": "markdown",
   "id": "779df554-eb7c-44a9-9e49-15c10a80d792",
   "metadata": {
    "id": "779df554-eb7c-44a9-9e49-15c10a80d792"
   },
   "source": [
    "<h3 style=\"font-weight: 400; line-height: 1.6; font-size: 18px; margin-top: 0; margin-bottom: 0;\">\n",
    "    We can solve this problem easily by using \"Partitions\".\n",
    "    So for that first of all we need to learn some basic properties.\n",
    "</h3>\n",
    "<br>"
   ]
  },
  {
   "cell_type": "markdown",
   "id": "416d9dd2-cda5-458a-b022-b5c77d6b8bee",
   "metadata": {
    "id": "416d9dd2-cda5-458a-b022-b5c77d6b8bee"
   },
   "source": [
    "<!-- Title -->\n",
    "<br>\n",
    "<h4 style=\"font-weight: bold; line-height: 1.6; font-size: 20px; margin-top: 0; margin-bottom: 0;\">\n",
    "    Properties of Partition\n",
    "</h4>\n",
    "\n",
    "\n",
    "<!-- Body Text -->\n",
    "<h4 style=\"font-weight: bold; line-height: 1.6; font-size: 18px; margin-top: 0; margin-bottom: 0;\"><br>\n",
    "    1. RGS\n",
    "</h4><br>\n",
    "<p style=\"font-weight: 400; line-height: 1.6; font-size: 18px; margin-top: 0; margin-bottom: 0;\">\n",
    "    It returns the “restricted growth string” of the partition.\n",
    "    <br>\n",
    "    Explanation - The RGS is given as a list of numbers, L, where each number L[i] tells you which indices the i-th element belongs to.\n",
    "</p>\n",
    "\n",
    "<br>\n"
   ]
  },
  {
   "cell_type": "code",
   "execution_count": 3,
   "id": "508ec47d-0991-4ea0-b694-790ba06315cf",
   "metadata": {
    "id": "508ec47d-0991-4ea0-b694-790ba06315cf",
    "outputId": "2b00d1c4-9f4f-4c3d-cbd3-3e6812637978"
   },
   "outputs": [
    {
     "name": "stdout",
     "output_type": "stream",
     "text": [
      "(1, 2, 3, 4, 5, 6, 7, 8, 9)\n",
      "(0, 0, 0, 1, 1, 2, 3, 4, 4)\n"
     ]
    }
   ],
   "source": [
    "from sympy.combinatorics import Partition              #Importing the Partition class from the sympy.combinatorics module.\n",
    "Example_RGS = Partition([1,2,3],[8,9],[4,5],[6],[7])   #Defining a partition of a set containing the elements {1,2,3,4,5,6,7,8,9}.\n",
    "print(Example_RGS.members)                             #Here \".members\" returns a tuple of elements in sorted order.\n",
    "print(Example_RGS.RGS)                                 #.RGS returns a tuple of indices, where each index tells us which block the corresponding element belongs to"
   ]
  },
  {
   "cell_type": "markdown",
   "id": "e182c769-21ef-4539-8058-bb246e18736f",
   "metadata": {
    "id": "e182c769-21ef-4539-8058-bb246e18736f"
   },
   "source": [
    "Now we can easily answer the 'Q1)' by using this property."
   ]
  },
  {
   "cell_type": "code",
   "execution_count": 4,
   "id": "34e56fac-1f27-4d84-800c-c082049debaf",
   "metadata": {
    "id": "34e56fac-1f27-4d84-800c-c082049debaf",
    "outputId": "4f02b6bc-4fd4-44e7-d3c3-1b145026b0e1"
   },
   "outputs": [
    {
     "name": "stdout",
     "output_type": "stream",
     "text": [
      "Partition: [[1, 2, 3], [4, 5], [6]]\n",
      "RGS Representation: (0, 0, 0, 1, 1, 2)\n"
     ]
    }
   ],
   "source": [
    "study_groups = Partition([1, 2, 3], [4, 5], [6])\n",
    "print(\"Partition:\", study_groups.partition)\n",
    "print(\"RGS Representation:\", study_groups.RGS)"
   ]
  },
  {
   "cell_type": "markdown",
   "id": "320d6878-19a4-4341-9780-ad7ba715642a",
   "metadata": {
    "id": "320d6878-19a4-4341-9780-ad7ba715642a"
   },
   "source": [
    "From the Output we can conclude that Students {1,2,3} are in group 0.\n",
    "Students {4,5} are in group 1.\n",
    "Student {6} is in group 2."
   ]
  },
  {
   "cell_type": "markdown",
   "id": "dcd1c388-9fd4-46d7-bf8e-6df195cabcb7",
   "metadata": {
    "id": "dcd1c388-9fd4-46d7-bf8e-6df195cabcb7"
   },
   "source": [
    "<!-- Body Text -->\n",
    "<h4 style=\"font-weight: bold; line-height: 1.6; font-size: 18px; margin-top: 0; margin-bottom: 0;\"><br>\n",
    "    2. Partition\n",
    "</h4><br>\n",
    "<p style=\"font-weight: 400; line-height: 1.6; font-size: 18px; margin-top: 0; margin-bottom: 0;\">\n",
    "    It returns partition as a sorted list of lists.\n",
    "</p>"
   ]
  },
  {
   "cell_type": "markdown",
   "id": "da829b8b-95f8-403e-92eb-74800ec7dbc1",
   "metadata": {
    "id": "da829b8b-95f8-403e-92eb-74800ec7dbc1"
   },
   "source": [
    "Explanation - A Partition in SymPy divides a set into disjoint, non-empty subsets (blocks) whose union equals the original set. The *.partition* attribute returns these blocks as a list of lists, representing the partition structure."
   ]
  },
  {
   "cell_type": "code",
   "execution_count": 1,
   "id": "1ca11f38-077f-4217-98b3-362c8ccd1e25",
   "metadata": {
    "id": "1ca11f38-077f-4217-98b3-362c8ccd1e25",
    "outputId": "76475f68-c9a5-4db2-8f7f-35d76ae474aa"
   },
   "outputs": [
    {
     "name": "stdout",
     "output_type": "stream",
     "text": [
      "[[2, 5], [4]]\n"
     ]
    }
   ],
   "source": [
    "from sympy.combinatorics import Partition\n",
    "Example_Partition = Partition([4], [2, 5]).partition\n",
    "print(Example_Partition)"
   ]
  },
  {
   "cell_type": "markdown",
   "id": "b2bba8c2-f684-48e6-a1b1-42ed42c40616",
   "metadata": {
    "id": "b2bba8c2-f684-48e6-a1b1-42ed42c40616"
   },
   "source": [
    "<!-- Body Text -->\n",
    "<h4 style=\"font-weight: bold; line-height: 1.6; font-size: 18px; margin-top: 0; margin-bottom: 0;\"><br>\n",
    "    3. Rank\n",
    "</h4><br>\n",
    "<p style=\"font-weight: 400; line-height: 1.6; font-size: 18px; margin-top: 0; margin-bottom: 0;\">\n",
    "    It gets the rank of a partition.\n",
    "</p>"
   ]
  },
  {
   "cell_type": "markdown",
   "id": "844b75ec-f111-47bf-8eef-53483605fde3",
   "metadata": {
    "id": "844b75ec-f111-47bf-8eef-53483605fde3"
   },
   "source": [
    "Explanation - The *.rank* attribute of a Partition in SymPy gives a unique integer representing the partition's position in the lexicographic ordering of all partitions of the same set."
   ]
  },
  {
   "cell_type": "code",
   "execution_count": 6,
   "id": "8d31a00b-9b0a-4897-b120-603f80e2fd89",
   "metadata": {
    "id": "8d31a00b-9b0a-4897-b120-603f80e2fd89",
    "outputId": "69a76206-721a-4335-ee73-05fc62119d61"
   },
   "outputs": [
    {
     "name": "stdout",
     "output_type": "stream",
     "text": [
      "13\n"
     ]
    }
   ],
   "source": [
    "from sympy.combinatorics import Partition\n",
    "Example_Rank = Partition([1, 2], [3], [4, 5])\n",
    "print(Example_Rank.rank)"
   ]
  },
  {
   "cell_type": "markdown",
   "id": "30bdc466-cb7c-4290-9841-3d3f9bf7c5c7",
   "metadata": {
    "id": "30bdc466-cb7c-4290-9841-3d3f9bf7c5c7"
   },
   "source": [
    "<!-- Body Text -->\n",
    "<h4 style=\"font-weight: bold; line-height: 1.6; font-size: 18px; margin-top: 0; margin-bottom: 0;\"><br>\n",
    "    4. Conjugate\n",
    "</h4><br>\n",
    "<p style=\"font-weight: 400; line-height: 1.6; font-size: 18px; margin-top: 0; margin-bottom: 0;\">\n",
    "    It computes the conjugate partition of itself.\n",
    "</p>"
   ]
  },
  {
   "cell_type": "markdown",
   "id": "895788cc-ccd8-42df-9502-f1a41665acfd",
   "metadata": {
    "id": "895788cc-ccd8-42df-9502-f1a41665acfd"
   },
   "source": [
    "Explanation - In SymPy, the *.conjugate* of an IntegerPartition interchange the rows and columns in its Ferrers diagram representation, transforming the partition into another valid partition."
   ]
  },
  {
   "cell_type": "code",
   "execution_count": 7,
   "id": "f64ef262-3bfc-4e5c-a0ad-1fbcdff999b6",
   "metadata": {
    "id": "f64ef262-3bfc-4e5c-a0ad-1fbcdff999b6",
    "outputId": "5b46f089-6003-4709-da33-7645f884e0ea"
   },
   "outputs": [
    {
     "name": "stdout",
     "output_type": "stream",
     "text": [
      "[5, 4, 3, 1, 1, 1]\n"
     ]
    }
   ],
   "source": [
    "from sympy.combinatorics.partitions import IntegerPartition\n",
    "Example_Conjugate = IntegerPartition([6, 3, 3, 2, 1])\n",
    "print(Example_Conjugate.conjugate)"
   ]
  },
  {
   "cell_type": "markdown",
   "id": "e85d7b1e-3b42-4a6c-adf3-aab77573de25",
   "metadata": {
    "id": "e85d7b1e-3b42-4a6c-adf3-aab77573de25"
   },
   "source": [
    "<center>\n",
    "    <h4 style=\"font-size: 23px;\">Topic 2:- Subsets</h4>\n",
    "</center>"
   ]
  },
  {
   "cell_type": "markdown",
   "id": "0461f15c-73d8-4561-8719-543d942583ec",
   "metadata": {
    "id": "0461f15c-73d8-4561-8719-543d942583ec"
   },
   "source": [
    "\n",
    "\n",
    "<h4 style=\"font-weight: 400; line-height: 1.6;\">In simple words, it represents a basic subset object.</h4>\n"
   ]
  },
  {
   "cell_type": "markdown",
   "id": "4d718a92-80f9-499f-be92-fc99dfea79c8",
   "metadata": {},
   "source": [
    "Explanation - There are two main ways to create subsets: **binary enumeration** and **lexicographic enumeration**. In SymPy, the *Subset* class needs two inputs: the first is the subset we start with, and the second is the larger set it comes from."
   ]
  },
  {
   "cell_type": "markdown",
   "id": "8fc377ce-0b3a-428e-a75d-b47acc2ac85e",
   "metadata": {
    "id": "8fc377ce-0b3a-428e-a75d-b47acc2ac85e"
   },
   "source": [
    "Some basic Examples of Subset"
   ]
  },
  {
   "cell_type": "code",
   "execution_count": 15,
   "id": "c58404f6-bf46-4568-bb0b-c62aa1809715",
   "metadata": {
    "id": "c58404f6-bf46-4568-bb0b-c62aa1809715",
    "outputId": "5d492b44-0f23-4277-f925-226ff75a4d29"
   },
   "outputs": [
    {
     "name": "stdout",
     "output_type": "stream",
     "text": [
      "['b']\n"
     ]
    }
   ],
   "source": [
    "from sympy.combinatorics import Subset\n",
    "a = Subset(['c', 'd'], ['a', 'b', 'c', 'd'])\n",
    "print(a.next_binary().subset)"
   ]
  },
  {
   "cell_type": "markdown",
   "id": "aa8b31ef-a10f-418c-9dc1-d60b3dfbe00a",
   "metadata": {
    "id": "aa8b31ef-a10f-418c-9dc1-d60b3dfbe00a"
   },
   "source": [
    "<h5 style=\"font-size: 18px;\">Let's take a practical example.</h5>\n"
   ]
  },
  {
   "cell_type": "markdown",
   "id": "67ca03b5-eaaa-4f46-ac5b-29eb2d59a64b",
   "metadata": {
    "id": "67ca03b5-eaaa-4f46-ac5b-29eb2d59a64b"
   },
   "source": [
    "<div style=\"font-size: 18px;\">\n",
    "    Imagine a smart home system with 4 devices that can be turned ON or OFF:\n",
    "    <br><br>\n",
    "    1. Lights ('L')<br>\n",
    "    2. Fan ('F')<br>\n",
    "    3. TV ('T')<br>\n",
    "    4. AC ('A')<br>\n",
    "    <br>\n",
    "    A subset of these devices represents the currently active (ON) devices.\n",
    "</div>\n"
   ]
  },
  {
   "cell_type": "markdown",
   "id": "178ac3d3-dd36-4d60-bb86-7cda380af8ca",
   "metadata": {
    "id": "178ac3d3-dd36-4d60-bb86-7cda380af8ca"
   },
   "source": [
    "<div style=\"font-size: 18px;\">\n",
    "    Now the problem is that we need to track which devices are ON at any moment and the system wants to automatically switch to the next possible combination of ON devices.\n",
    "</div>\n"
   ]
  },
  {
   "cell_type": "code",
   "execution_count": 2,
   "id": "70c38d40-a088-4fa7-a523-47fdefe82312",
   "metadata": {
    "id": "70c38d40-a088-4fa7-a523-47fdefe82312",
    "outputId": "8d54e29e-11d5-4633-a502-7c9f35a6136e"
   },
   "outputs": [
    {
     "name": "stdout",
     "output_type": "stream",
     "text": [
      "All Devices: ['L', 'F', 'T', 'A']\n",
      "Currently ON Devices: ['T', 'A']\n",
      "Next ON Device Combination: ['F']\n"
     ]
    }
   ],
   "source": [
    "from sympy.combinatorics import Subset\n",
    "all_devices = ['L', 'F', 'T', 'A']                   #First of all defining the all devices in a list in short form for ease.\n",
    "current_on_devices = Subset(['T', 'A'], all_devices)   # Define the initial subset (devices that are ON)\n",
    "next_on_devices = current_on_devices.next_binary().subset   # Get the next possible subset in binary order (next device combination)\n",
    "print(\"All Devices:\", all_devices)\n",
    "print(\"Currently ON Devices:\", current_on_devices.subset)\n",
    "print(\"Next ON Device Combination:\", next_on_devices)"
   ]
  },
  {
   "cell_type": "markdown",
   "id": "b074b3e5-8556-4aba-9e61-b5a0a0b794dd",
   "metadata": {
    "id": "b074b3e5-8556-4aba-9e61-b5a0a0b794dd"
   },
   "source": [
    "<div style=\"font-size: 18px;\">\n",
    "    So this algorithm helps us to find the Devices which are currently ON and also gives the knowledge about the next device which is ON.\n",
    "</div>\n"
   ]
  },
  {
   "cell_type": "markdown",
   "id": "b7c074fe-dc8f-4882-873c-35b043bcdee9",
   "metadata": {
    "id": "b7c074fe-dc8f-4882-873c-35b043bcdee9"
   },
   "source": [
    "\n",
    "\n",
    "<br>\n",
    "<h4 style=\"font-weight: bold; line-height: 1.6; font-size: 20px; margin-top: 0; margin-bottom: 0;\">\n",
    "    Properties of Subsets\n",
    "</h4>"
   ]
  },
  {
   "cell_type": "markdown",
   "id": "c39cccf7-bb5f-415c-8d9a-c65175ac2ee0",
   "metadata": {
    "id": "c39cccf7-bb5f-415c-8d9a-c65175ac2ee0"
   },
   "source": [
    "<!-- Body Text -->\n",
    "<h4 style=\"font-weight: bold; line-height: 1.6; font-size: 18px; margin-top: 0; margin-bottom: 0;\"><br>\n",
    "    1. Cardinality\n",
    "</h4><br>\n",
    "<p style=\"font-weight: 400; line-height: 1.6; font-size: 18px; margin-top: 0; margin-bottom: 0;\">\n",
    "    It returns the number of all possible subsets.\n",
    "</p>"
   ]
  },
  {
   "cell_type": "markdown",
   "id": "2c129a8f-bfd6-48cd-92c5-af7b7f1b9acb",
   "metadata": {
    "id": "2c129a8f-bfd6-48cd-92c5-af7b7f1b9acb"
   },
   "source": [
    "Explanation - The *.cardinality* property in SymPy returns the **total number of possible subsets** of a given set. Since a set with **n elements** has **\\(2^n\\) subsets**, this property calculates and returns that value."
   ]
  },
  {
   "cell_type": "code",
   "execution_count": 17,
   "id": "5cc7a39a-7da1-452e-a771-7657189c55dd",
   "metadata": {
    "id": "5cc7a39a-7da1-452e-a771-7657189c55dd",
    "outputId": "fde0d6cc-b522-43b9-878e-ee0f089a8406"
   },
   "outputs": [
    {
     "name": "stdout",
     "output_type": "stream",
     "text": [
      "16\n"
     ]
    }
   ],
   "source": [
    "from sympy.combinatorics import Subset\n",
    "Example_Cardinality = Subset(['c', 'd'], ['a', 'b', 'c', 'd'])\n",
    "print(Example_Cardinality.cardinality)"
   ]
  },
  {
   "cell_type": "markdown",
   "id": "480ba220-125d-44be-a455-7453da5a74be",
   "metadata": {
    "id": "480ba220-125d-44be-a455-7453da5a74be"
   },
   "source": [
    "<!-- Body Text -->\n",
    "<h4 style=\"font-weight: bold; line-height: 1.6; font-size: 18px; margin-top: 0; margin-bottom: 0;\"><br>\n",
    "    2. Subset\n",
    "</h4><br>\n",
    "<p style=\"font-weight: 400; line-height: 1.6; font-size: 18px; margin-top: 0; margin-bottom: 0;\">\n",
    "    It gets the subset represented by the current instance.\n",
    "</p>"
   ]
  },
  {
   "cell_type": "markdown",
   "id": "051e5bac-2a7b-4961-a4a1-fb8632098356",
   "metadata": {
    "id": "051e5bac-2a7b-4961-a4a1-fb8632098356"
   },
   "source": [
    "The *.subset* property in SymPy returns the **current subset** being considered. It simply gives the list of elements that form the subset within the given superset."
   ]
  },
  {
   "cell_type": "code",
   "execution_count": 18,
   "id": "23181b7f-a662-4a38-9fbd-da4065372251",
   "metadata": {
    "id": "23181b7f-a662-4a38-9fbd-da4065372251",
    "outputId": "88310320-6f3a-480a-fa84-b4b199b03771"
   },
   "outputs": [
    {
     "name": "stdout",
     "output_type": "stream",
     "text": [
      "['c', 'd']\n"
     ]
    }
   ],
   "source": [
    "from sympy.combinatorics import Subset\n",
    "Example_Subset = Subset(['c', 'd'], ['a', 'b', 'c', 'd'])\n",
    "print(Example_Subset.subset)"
   ]
  },
  {
   "cell_type": "markdown",
   "id": "15c94763-2341-4ebd-821d-fa60bf39a4ed",
   "metadata": {
    "id": "15c94763-2341-4ebd-821d-fa60bf39a4ed"
   },
   "source": [
    "<!-- Body Text -->\n",
    "<h4 style=\"font-weight: bold; line-height: 1.6; font-size: 18px; margin-top: 0; margin-bottom: 0;\"><br>\n",
    "    3. Superset\n",
    "</h4><br>\n",
    "<p style=\"font-weight: 400; line-height: 1.6; font-size: 18px; margin-top: 0; margin-bottom: 0;\">\n",
    "    It gets the superset of the subset.\n",
    "</p>"
   ]
  },
  {
   "cell_type": "markdown",
   "id": "555cd36a-d7cc-451d-8214-26dd78bb0d53",
   "metadata": {
    "id": "555cd36a-d7cc-451d-8214-26dd78bb0d53"
   },
   "source": [
    "Explanation - The *.superset* property in SymPy returns the **original (universal) set** from which subsets are created. It shows the complete set that contains all possible elements for forming subsets."
   ]
  },
  {
   "cell_type": "code",
   "execution_count": 19,
   "id": "c0849dc6-8e1e-45d7-a3a8-3225c5f0f4db",
   "metadata": {
    "id": "c0849dc6-8e1e-45d7-a3a8-3225c5f0f4db",
    "outputId": "6194a3a4-cbc0-4ebe-ef2f-adc44ed34958"
   },
   "outputs": [
    {
     "name": "stdout",
     "output_type": "stream",
     "text": [
      "['a', 'b', 'c', 'd']\n"
     ]
    }
   ],
   "source": [
    "from sympy.combinatorics import Subset\n",
    "Example_Superset = Subset(['c', 'd'], ['a', 'b', 'c', 'd'])\n",
    "print(Example_Superset.superset)"
   ]
  },
  {
   "cell_type": "markdown",
   "id": "db2dfa6f-958a-40b1-ba2f-a674535c89bd",
   "metadata": {
    "id": "db2dfa6f-958a-40b1-ba2f-a674535c89bd"
   },
   "source": [
    "<!-- Body Text -->\n",
    "<h4 style=\"font-weight: bold; line-height: 1.6; font-size: 18px; margin-top: 0; margin-bottom: 0;\"><br>\n",
    "    4. Size\n",
    "</h4><br>\n",
    "<p style=\"font-weight: 400; line-height: 1.6; font-size: 18px; margin-top: 0; margin-bottom: 0;\">\n",
    "    It gets the size of the subset.\n",
    "</p>"
   ]
  },
  {
   "cell_type": "markdown",
   "id": "89cef640-e909-4cc4-a4f4-a59eddda1ee1",
   "metadata": {
    "id": "89cef640-e909-4cc4-a4f4-a59eddda1ee1"
   },
   "source": [
    "Explanation - The *.size* property in SymPy returns the **number of elements in the current subset**. It simply counts how many elements are present in the subset."
   ]
  },
  {
   "cell_type": "code",
   "execution_count": 20,
   "id": "ff113bd5-35de-490a-b537-d0a6323920ff",
   "metadata": {
    "id": "ff113bd5-35de-490a-b537-d0a6323920ff",
    "outputId": "912e6c89-c58d-4dc2-aebf-293964b2c314"
   },
   "outputs": [
    {
     "name": "stdout",
     "output_type": "stream",
     "text": [
      "3\n"
     ]
    }
   ],
   "source": [
    "from sympy.combinatorics import Subset\n",
    "Example_Size = Subset(['a', 'c', 'd'], ['a', 'b', 'c', 'd'])\n",
    "print(Example_Size.size)"
   ]
  },
  {
   "cell_type": "markdown",
   "id": "28abfffb-91c1-461b-8732-22013339f499",
   "metadata": {
    "id": "28abfffb-91c1-461b-8732-22013339f499"
   },
   "source": [
    "<!-- Body Text -->\n",
    "<h4 style=\"font-weight: bold; line-height: 1.6; font-size: 18px; margin-top: 0; margin-bottom: 0;\"><br>\n",
    "    5. Superset Size\n",
    "</h4><br>\n",
    "<p style=\"font-weight: 400; line-height: 1.6; font-size: 18px; margin-top: 0; margin-bottom: 0;\">\n",
    "    It returns the size of the superset.\n",
    "</p>"
   ]
  },
  {
   "cell_type": "markdown",
   "id": "6a28e94b-1740-4ea7-95da-add637e606a9",
   "metadata": {
    "id": "6a28e94b-1740-4ea7-95da-add637e606a9"
   },
   "source": [
    "Explanation - The *.superset_size* property in SymPy returns the **number of elements in the superset**. It simply gives the total count of elements in the original (universal) set from which subsets are formed."
   ]
  },
  {
   "cell_type": "code",
   "execution_count": 21,
   "id": "17a3570f-e401-43ad-838a-28525cdb5aea",
   "metadata": {
    "id": "17a3570f-e401-43ad-838a-28525cdb5aea",
    "outputId": "eb041317-22f7-4dbb-ac13-bfc16b0e1d53"
   },
   "outputs": [
    {
     "name": "stdout",
     "output_type": "stream",
     "text": [
      "4\n"
     ]
    }
   ],
   "source": [
    "from sympy.combinatorics import Subset\n",
    "Example_Superset_size = Subset(['c', 'd'], ['a', 'b', 'c', 'd'])\n",
    "print(Example_Superset_size.superset_size)"
   ]
  },
  {
   "cell_type": "markdown",
   "id": "720150ee-c8f3-4b26-8b93-fed173cb0242",
   "metadata": {
    "id": "720150ee-c8f3-4b26-8b93-fed173cb0242"
   },
   "source": [
    "<center>\n",
    "    <h4 style=\"font-size: 23px;\">Topic 3:- Gray Code</h4>\n",
    "</center>"
   ]
  },
  {
   "cell_type": "markdown",
   "id": "7549559d-3ea7-412f-9e36-3a10db6f0eba",
   "metadata": {
    "id": "7549559d-3ea7-412f-9e36-3a10db6f0eba"
   },
   "source": [
    "\n",
    "\n",
    "<h4 style=\"font-weight: 400; line-height: 1.6;\">A Gray code is a way of listing all possible subsets of a set so that each new subset differs from the previous one by adding or removing just one element. This helps in efficient subset generation and has applications in computing and statistics.</h4>\n"
   ]
  },
  {
   "cell_type": "markdown",
   "id": "3b5cadcb-031a-4155-a7e4-8be8e7f862bf",
   "metadata": {
    "id": "ce9ac27f-64ff-49cc-a1ec-f7731ff2fdab"
   },
   "source": [
    "<!-- Title -->\n",
    "<br>\n",
    "<h4 style=\"font-weight: bold; line-height: 1.6; font-size: 20px; margin-top: 0; margin-bottom: 0;\">\n",
    "    Properties of Gray Code\n",
    "</h4>"
   ]
  },
  {
   "cell_type": "markdown",
   "id": "a4d09170-ef82-4350-adc2-52e9ac9b0cba",
   "metadata": {},
   "source": [
    "<!-- Body Text -->\n",
    "<h4 style=\"font-weight: bold; line-height: 1.6; font-size: 18px; margin-top: 0; margin-bottom: 0;\"><br>\n",
    "    1. Current\n",
    "</h4><br>\n",
    "<p style=\"font-weight: 400; line-height: 1.6; font-size: 18px; margin-top: 0; margin-bottom: 0;\">\n",
    "    It returns the currently referenced Gray code as a bit string.\n",
    "</p>"
   ]
  },
  {
   "cell_type": "markdown",
   "id": "3f4b45d5-8a85-4e9d-b47e-553c55c47561",
   "metadata": {},
   "source": [
    "Explanation - The *.current* attribute shows the **Current Gray code value** in the sequence and if a starting value is given, it starts from that value instead of the default (000)."
   ]
  },
  {
   "cell_type": "code",
   "execution_count": 25,
   "id": "53a8de17-8fa2-412f-ba12-33f966cf2664",
   "metadata": {},
   "outputs": [
    {
     "name": "stdout",
     "output_type": "stream",
     "text": [
      "100\n",
      "000\n"
     ]
    }
   ],
   "source": [
    "from sympy.combinatorics import GrayCode\n",
    "Example_Current_1 = GrayCode(3, start='100').current\n",
    "print(Example_Current_1)\n",
    "from sympy.combinatorics import GrayCode\n",
    "Example_Current_2 = GrayCode(3).current\n",
    "print(Example_Current_2)"
   ]
  },
  {
   "cell_type": "markdown",
   "id": "c19178a3-55e0-4e4d-98b7-b2d4fdd56718",
   "metadata": {},
   "source": [
    "<!-- Body Text -->\n",
    "<h4 style=\"font-weight: bold; line-height: 1.6; font-size: 18px; margin-top: 0; margin-bottom: 0;\"><br>\n",
    "    2. Property n\n",
    "</h4><br>\n",
    "<p style=\"font-weight: 400; line-height: 1.6; font-size: 18px; margin-top: 0; margin-bottom: 0;\">\n",
    "    It returns the dimension of the Gray code.\n",
    "</p>"
   ]
  },
  {
   "cell_type": "markdown",
   "id": "fd4c985b-7c4e-46da-9c2f-b4e19348ca2c",
   "metadata": {},
   "source": [
    "Explanation - The *.n* attribute gives the **number of bits** used in the Gray code. In this case, it returns 5, meaning the Gray code sequence is for **5-bit numbers**."
   ]
  },
  {
   "cell_type": "code",
   "execution_count": 28,
   "id": "b48dcaf0-fb56-40a2-9715-e4a21564034e",
   "metadata": {},
   "outputs": [
    {
     "name": "stdout",
     "output_type": "stream",
     "text": [
      "5\n"
     ]
    }
   ],
   "source": [
    "from sympy.combinatorics import GrayCode\n",
    "Example_Dimension = GrayCode(5)\n",
    "print(Example_Dimension.n)"
   ]
  },
  {
   "cell_type": "markdown",
   "id": "db41061b-c3bc-462a-9c96-2ac99700fa77",
   "metadata": {},
   "source": [
    "<!-- Body Text -->\n",
    "<h4 style=\"font-weight: bold; line-height: 1.6; font-size: 18px; margin-top: 0; margin-bottom: 0;\"><br>\n",
    "    3. Rank\n",
    "</h4><br>\n",
    "<p style=\"font-weight: 400; line-height: 1.6; font-size: 18px; margin-top: 0; margin-bottom: 0;\">\n",
    "    It ranks the Gray code.\n",
    "</p>"
   ]
  },
  {
   "cell_type": "markdown",
   "id": "d9263d0b-aaed-453f-8558-32a84babf81d",
   "metadata": {},
   "source": [
    "Explanation - A ranking algorithm finds the position of a combinatorial object in a list of all possible objects, based on a specific order."
   ]
  },
  {
   "cell_type": "code",
   "execution_count": 31,
   "id": "4b502ada-a0b8-470f-9192-ff7b1fb0297c",
   "metadata": {},
   "outputs": [
    {
     "name": "stdout",
     "output_type": "stream",
     "text": [
      "['000', '001', '011', '010', '110', '111', '101', '100']\n",
      "The Rank of '100' is: 7\n",
      "The Rank of '111' is: 5\n"
     ]
    }
   ],
   "source": [
    "from sympy.combinatorics import GrayCode\n",
    "Example = GrayCode(3)\n",
    "print(list(Example.generate_gray()))\n",
    "Example_Rank_1 = GrayCode(3, start='100').rank\n",
    "print(\"The Rank of '100' is:\", Example_Rank_1)\n",
    "Example_Rank_2 = GrayCode(3, start='111').rank\n",
    "print(\"The Rank of '111' is:\", Example_Rank_2)"
   ]
  },
  {
   "cell_type": "markdown",
   "id": "73915df2-5402-4d53-8c48-628a3b20f6c9",
   "metadata": {},
   "source": [
    "<!-- Body Text -->\n",
    "<h4 style=\"font-weight: bold; line-height: 1.6; font-size: 18px; margin-top: 0; margin-bottom: 0;\"><br>\n",
    "    4. Selections\n",
    "</h4><br>\n",
    "<p style=\"font-weight: 400; line-height: 1.6; font-size: 18x; margin-top: 0; margin-bottom: 0;\">\n",
    "    It returns the number of bit vectors in the Gray code.\n",
    "</p>"
   ]
  },
  {
   "cell_type": "markdown",
   "id": "4200b098-14c8-4257-bba4-4bc7a610aa45",
   "metadata": {},
   "source": [
    "Explanation - The .selections property tells us how many values exist in the Gray code sequence. For example in n-bit Gray code, this number is always 2^n."
   ]
  },
  {
   "cell_type": "code",
   "execution_count": 34,
   "id": "57b863bf-f824-4555-a7fe-e798b8e7ea98",
   "metadata": {},
   "outputs": [
    {
     "name": "stdout",
     "output_type": "stream",
     "text": [
      "8\n",
      "32\n"
     ]
    }
   ],
   "source": [
    "from sympy.combinatorics import GrayCode\n",
    "Example_Selections_1 = GrayCode(3)\n",
    "print(Example_Selections_1.selections)\n",
    "Example_Selections_2 = GrayCode(5)\n",
    "print(Example_Selections_2.selections)"
   ]
  },
  {
   "cell_type": "markdown",
   "id": "225d8370-f8fd-43f4-88c6-9aa92b38dddb",
   "metadata": {},
   "source": [
    "<center>\n",
    "    <h4 style=\"font-size: 23px;\">Topic 4:- Permutations</h4>\n",
    "</center>"
   ]
  },
  {
   "cell_type": "markdown",
   "id": "65e19c14-3a5f-48ba-b4fc-47959669d78d",
   "metadata": {},
   "source": [
    "<h4 style=\"font-weight: 400; line-height: 1.6;\">Permutation is an important subdivision of sympy.combinatorics,\n",
    "they are fundamental concepts in combinatorics, representing the various ways to arrange a set of elements where the order is significant.\n",
    "In SymPy, the Permutation class provides tools to create and manipulate these arrangements.</h4>"
   ]
  },
  {
   "cell_type": "markdown",
   "id": "ec3e2f2f-3dad-42a8-8659-e6fd412f908f",
   "metadata": {},
   "source": [
    "<h4 style=\"font-weight: 400; line-height: 1.6;\"> To define a permutation, you specify a list that indicates the new positions of elements. Let us understand this with an example, Permutation([2, 0, 1]) rearranges elements such that the element at index 0 moves to index 2, the element at index 1 moves to index 0, and the element at index 2 moves to index 1.</h4>\n",
    "\n",
    "Here's the code:"
   ]
  },
  {
   "cell_type": "code",
   "execution_count": 38,
   "id": "083aa47d-c7d4-40ca-836a-b24d2ab46771",
   "metadata": {},
   "outputs": [
    {
     "name": "stdout",
     "output_type": "stream",
     "text": [
      "Permutation is: (0 2 1)\n"
     ]
    }
   ],
   "source": [
    "from sympy.combinatorics import Permutation\n",
    "\n",
    "p = Permutation([2, 0, 1]) # We define the permutation here\n",
    "\n",
    "print(\"Permutation is:\", p) \n"
   ]
  },
  {
   "cell_type": "markdown",
   "id": "328898d7-9e8f-45fa-bb49-5557f531bdc5",
   "metadata": {},
   "source": [
    "<div style=\"font-size: 18px;\">\n",
    "    Explanation\n",
    "    <br> <br>\n",
    "    In this cycle notation, (0 2 1) indicates that index 0 maps to index 2, index 2 maps to index 1, and index 1 maps back to index 0, forming a cycle.\n",
    "</div>\n"
   ]
  },
  {
   "cell_type": "markdown",
   "id": "e1f9288f-c58c-4bcb-a77a-68836aadde19",
   "metadata": {},
   "source": [
    "<h4 style=\"font-weight: 400; line-height: 1.6; font-size: 18px; margin-top: 0; margin-bottom: 0;\">\n",
    "    How can we apply permuation to a List? \n",
    "</h4>"
   ]
  },
  {
   "cell_type": "markdown",
   "id": "20514e82-7e70-4d6f-9435-d30fedc0853e",
   "metadata": {},
   "source": [
    "<div style=\"font-size: 18px;\">\n",
    "    To apply this permutation to a list of elements [A, B, C]:\n",
    "</div>\n"
   ]
  },
  {
   "cell_type": "code",
   "execution_count": 42,
   "id": "d0fe4242-260d-44d4-9e3e-a15604d498ec",
   "metadata": {},
   "outputs": [
    {
     "name": "stdout",
     "output_type": "stream",
     "text": [
      "Original List: ['A', 'B', 'C']\n",
      "Permuted List: ['C', 'A', 'B']\n"
     ]
    }
   ],
   "source": [
    "\n",
    "original_elements = ['A', 'B', 'C']\n",
    "\n",
    "p = Permutation([2, 0, 1])\n",
    "\n",
    "permuted_elements = [original_elements[i] for i in p.array_form] #here the function .array_form just gives us an array of the permutation p\n",
    "\n",
    "print(\"Original List:\", original_elements)           \n",
    "print(\"Permuted List:\", permuted_elements)  \n"
   ]
  },
  {
   "cell_type": "markdown",
   "id": "68ee2403-c94b-4bfc-92a3-2c21a564ee00",
   "metadata": {},
   "source": [
    "<div style=\"font-size: 18px;\">This code rearranges the list ['A', 'B', 'C'] to ['B', 'C', 'A'] based on the permutation [2,0,1] as:</div>"
   ]
  },
  {
   "cell_type": "markdown",
   "id": "6713c3d6-94fd-4612-bd33-522bcd854085",
   "metadata": {},
   "source": [
    "<div style=\"font-size: 18px;\">The element at pos 0 maps to the index 1 , the element at pos 1 maps to the index 2 and the element at the pos  2 maps athe index 0.</div>"
   ]
  },
  {
   "cell_type": "markdown",
   "id": "92358b4f-c9e3-4888-b3ea-5d9cf302a8ce",
   "metadata": {},
   "source": [
    "<div style=\"font-size: 18px;\"><h4 style=\"font-weight: 400; line-height: 1.6; font-size: 18px; margin-top: 0; margin-bottom: 0;\">\n",
    "    How can we apply permuation to a List? \n",
    "</h4></div>"
   ]
  },
  {
   "cell_type": "markdown",
   "id": "98ba6c0d-96e8-496f-88e4-7fcfb790f817",
   "metadata": {},
   "source": [
    "<div style=\"font-size: 18px;\">Permutations play a crucial role in cryptography, particularly in the design of encryption algorithms. By permuting bits or blocks of data, encryption schemes can obscure the original information, enhancing security.</div>"
   ]
  },
  {
   "cell_type": "markdown",
   "id": "9c49d9ac",
   "metadata": {},
   "source": [
    "<!-- Title -->\n",
    "<br>\n",
    "<h4 style=\"font-weight: bold; line-height: 1.6; font-size: 20px; margin-top: 0; margin-bottom: 0;\">\n",
    "    Properties of Permutations\n",
    "</h4>"
   ]
  },
  {
   "cell_type": "markdown",
   "id": "95bee155",
   "metadata": {},
   "source": [
    "<!-- Body Text -->\n",
    "<h4 style=\"font-weight: bold; line-height: 1.6; font-size: 18px; margin-top: 0; margin-bottom: 0;\"><br>\n",
    "    1. Identity Permutation\n",
    "</h4><br>\n",
    "<p style=\"font-weight: 400; line-height: 1.6; font-size: 18x; margin-top: 0; margin-bottom: 0;\">\n",
    "    A permutation where all elements remain in their original positions.\n",
    "</p>"
   ]
  },
  {
   "cell_type": "code",
   "execution_count": 4,
   "id": "dc663446",
   "metadata": {},
   "outputs": [
    {
     "name": "stdout",
     "output_type": "stream",
     "text": [
      "Identity Permutation: (3)\n"
     ]
    }
   ],
   "source": [
    "from sympy.combinatorics import Permutation\n",
    "\n",
    "# here we have an identity permutation of size 4\n",
    "p = Permutation([0, 1, 2, 3])\n",
    "print(\"Identity Permutation:\", p)"
   ]
  },
  {
   "cell_type": "markdown",
   "id": "3763a4ae",
   "metadata": {},
   "source": [
    "In this example,each element maps with itself suggesting no change in the position of the element."
   ]
  },
  {
   "cell_type": "markdown",
   "id": "ee8076de",
   "metadata": {},
   "source": [
    "<!-- Body Text -->\n",
    "<h4 style=\"font-weight: bold; line-height: 1.6; font-size: 18px; margin-top: 0; margin-bottom: 0;\"><br>\n",
    "    2. Inverse of Permutation\n",
    "</h4><br>\n",
    "<p style=\"font-weight: 400; line-height: 1.6; font-size: 18x; margin-top: 0; margin-bottom: 0;\">\n",
    "    A permutation that, when composed with the original, yields the identity permutation.\n",
    "</p>"
   ]
  },
  {
   "cell_type": "code",
   "execution_count": 5,
   "id": "173d7a5c",
   "metadata": {},
   "outputs": [
    {
     "name": "stdout",
     "output_type": "stream",
     "text": [
      "Permutation: (0 2 1)\n",
      "Inverse Permutation: (0 1 2)\n"
     ]
    }
   ],
   "source": [
    "from sympy.combinatorics import Permutation\n",
    "\n",
    "#here we Define a permutation\n",
    "p = Permutation([2, 0, 1])\n",
    "# to Compute its inverse we do\n",
    "p_inv = ~p\n",
    "print(\"Permutation:\", p)\n",
    "print(\"Inverse Permutation:\", p_inv)\n"
   ]
  },
  {
   "cell_type": "markdown",
   "id": "7ecd234b",
   "metadata": {},
   "source": [
    "Here,on applying p followed by its inverse p_inv returns elements to their original positions."
   ]
  },
  {
   "cell_type": "markdown",
   "id": "a6b562e6",
   "metadata": {},
   "source": [
    "<!-- Body Text -->\n",
    "<h4 style=\"font-weight: bold; line-height: 1.6; font-size: 18px; margin-top: 0; margin-bottom: 0;\"><br>\n",
    "    3. Order of Permutation\n",
    "</h4><br>\n",
    "<p style=\"font-weight: 400; line-height: 1.6; font-size: 18x; margin-top: 0; margin-bottom: 0;\">\n",
    "    The smallest positive integer k such that applying the permutation k times results in the identity permutation.\n",
    "</p>"
   ]
  },
  {
   "cell_type": "code",
   "execution_count": 6,
   "id": "503c1220",
   "metadata": {},
   "outputs": [
    {
     "name": "stdout",
     "output_type": "stream",
     "text": [
      "Permutation: (0 1 2)\n",
      "Order of the Permutation: 3\n"
     ]
    }
   ],
   "source": [
    "from sympy.combinatorics import Permutation\n",
    "\n",
    "#Here we Define a permutation\n",
    "p = Permutation([1, 2, 0])\n",
    "#To Compute its order we do\n",
    "order = p.order()\n",
    "print(\"Permutation:\", p)\n",
    "print(\"Order of the Permutation:\", order)\n"
   ]
  },
  {
   "cell_type": "markdown",
   "id": "8726bb96",
   "metadata": {},
   "source": [
    "Applying this permutation 3 times (i.e the order) returns the set to its original configuration."
   ]
  },
  {
   "cell_type": "markdown",
   "id": "c75c212d",
   "metadata": {},
   "source": [
    "<!-- Body Text -->\n",
    "<h4 style=\"font-weight: bold; line-height: 1.6; font-size: 18px; margin-top: 0; margin-bottom: 0;\"><br>\n",
    "    4. Parity of Permutation\n",
    "</h4><br>\n",
    "<p style=\"font-weight: 400; line-height: 1.6; font-size: 18x; margin-top: 0; margin-bottom: 0;\">\n",
    "    Indicates whether a permutation is even or odd, based on the number of transpositions (pairwise swaps) required to achieve it.\n",
    "</p>"
   ]
  },
  {
   "cell_type": "code",
   "execution_count": 7,
   "id": "f51f3080",
   "metadata": {},
   "outputs": [
    {
     "name": "stdout",
     "output_type": "stream",
     "text": [
      "Permutation: (2)(0 1)\n",
      "Is the permutation even? False\n"
     ]
    }
   ],
   "source": [
    "from sympy.combinatorics import Permutation\n",
    "\n",
    "#here we Define a permutation\n",
    "p = Permutation([1, 0, 2])\n",
    "#to check its parity we do\n",
    "is_even = p.is_even\n",
    "print(\"Permutation:\", p)\n",
    "print(\"Is the permutation even?\", is_even)"
   ]
  },
  {
   "cell_type": "markdown",
   "id": "c3e5b066",
   "metadata": {},
   "source": [
    "As we can see this permutation is odd, as it can be achieved with a single transposition: swapping elements 0 and 1."
   ]
  },
  {
   "cell_type": "markdown",
   "id": "d24789d8",
   "metadata": {},
   "source": [
    "<!-- Body Text -->\n",
    "<h4 style=\"font-weight: bold; line-height: 1.6; font-size: 18px; margin-top: 0; margin-bottom: 0;\"><br>\n",
    "    5. Cyclic Decomposition\n",
    "</h4><br>\n",
    "<p style=\"font-weight: 400; line-height: 1.6; font-size: 18x; margin-top: 0; margin-bottom: 0;\">\n",
    "    Expressing a permutation as a product of disjoint cycles, where each cycle represents a subset of elements permuted among themselves.\n",
    "</p>"
   ]
  },
  {
   "cell_type": "code",
   "execution_count": 8,
   "id": "9cb42eb2",
   "metadata": {},
   "outputs": [
    {
     "name": "stdout",
     "output_type": "stream",
     "text": [
      "Permutation: (0 2 1)(3 4 5)\n",
      "Cyclic Decomposition: [[0, 2, 1], [3, 4, 5]]\n"
     ]
    }
   ],
   "source": [
    "from sympy.combinatorics import Permutation\n",
    "\n",
    "#Here we Define a permutation\n",
    "p = Permutation([2, 0, 1, 4, 5, 3])\n",
    "#To Get its cyclic form we do\n",
    "cycles = p.cyclic_form\n",
    "print(\"Permutation:\", p)\n",
    "print(\"Cyclic Decomposition:\", cycles)"
   ]
  },
  {
   "cell_type": "markdown",
   "id": "7d06ba27",
   "metadata": {},
   "source": [
    "\n",
    "This permutation consists of two disjoint cycles: one cycling elements 0, 2, and 1; the other cycling elements 3, 4, and 5."
   ]
  },
  {
   "cell_type": "markdown",
   "id": "75c612d6",
   "metadata": {},
   "source": [
    "\n",
    "<center>\n",
    "    <h3 style=\"font-size: 23px;\">Topic 5:- Permutation Groups</h3>\n",
    "</center>"
   ]
  },
  {
   "cell_type": "markdown",
   "id": "0f123737",
   "metadata": {},
   "source": [
    "<div style=\"font-size: 18px;\">\n",
    "    In SymPy, a permutation group is a collection of permutations (rearrangements) that follow group properties. It is represented using the PermutationGroup class in sympy.combinatorics.\n",
    "</div>\n"
   ]
  },
  {
   "cell_type": "markdown",
   "id": "a7d2c80c",
   "metadata": {},
   "source": [
    "<div style=\"font-size: 18px;\">\n",
    "    How to create Permutation Group in SymPy?\n",
    "</div>\n"
   ]
  },
  {
   "cell_type": "markdown",
   "id": "e3d994ca",
   "metadata": {},
   "source": [
    "<div style=\"font-size: 18px;\">\n",
    "    So first step is to create permuations: A permutation is represented as a list where indices represent elements, and values represent their new positions after permutation\n",
    "</div>"
   ]
  },
  {
   "cell_type": "code",
   "execution_count": 9,
   "id": "304042f8",
   "metadata": {},
   "outputs": [
    {
     "name": "stdout",
     "output_type": "stream",
     "text": [
      "Permutation Group: PermutationGroup([\n",
      "    (0 1 2),\n",
      "    (0 2 1)])\n"
     ]
    }
   ],
   "source": [
    "from sympy.combinatorics import Permutation, PermutationGroup\n",
    "\n",
    "# Defining permutations\n",
    "p1 = Permutation([1, 2, 0]) # -> (0 1 2)\n",
    "p2 = Permutation([2, 0, 1]) # -> (0 2 1)\n",
    "\n",
    "# Creating a group\n",
    "G = PermutationGroup([p1, p2])\n",
    "\n",
    "print(\"Permutation Group:\", G)\n"
   ]
  },
  {
   "cell_type": "markdown",
   "id": "e33b5ac8",
   "metadata": {},
   "source": [
    "A permutation group consists of multiple permutations as shown above."
   ]
  },
  {
   "cell_type": "markdown",
   "id": "fc0520d8",
   "metadata": {},
   "source": [
    "<!-- Title -->\n",
    "<br>\n",
    "<h4 style=\"font-weight: bold; line-height: 1.6; font-size: 20px; margin-top: 0; margin-bottom: 0;\">\n",
    "    Properties of Permutation Group\n",
    "</h4>"
   ]
  },
  {
   "cell_type": "markdown",
   "id": "9d979012",
   "metadata": {},
   "source": [
    "<!-- Body Text -->\n",
    "<h4 style=\"font-weight: bold; line-height: 1.6; font-size: 18px; margin-top: 0; margin-bottom: 0;\"><br>\n",
    "    1. Identity of a group\n",
    "</h4><br>\n",
    "<p style=\"font-weight: 400; line-height: 1.6; font-size: 18x; margin-top: 0; margin-bottom: 0;\">\n",
    "    Every group must have an identity element that does nothing.\n",
    "</p>"
   ]
  },
  {
   "cell_type": "code",
   "execution_count": 10,
   "id": "65602379",
   "metadata": {},
   "outputs": [
    {
     "name": "stdout",
     "output_type": "stream",
     "text": [
      "Identity Element of the Group: (2)\n"
     ]
    }
   ],
   "source": [
    "print(\"Identity Element of the Group:\", G.identity)"
   ]
  },
  {
   "cell_type": "markdown",
   "id": "11e5eb95",
   "metadata": {},
   "source": [
    "<div style=\"font-size: 18px;\">\n",
    "    This confirms that [0, 1, 2] is the identity permutation.\n",
    "</div>\n"
   ]
  },
  {
   "cell_type": "markdown",
   "id": "2d32c3d8",
   "metadata": {},
   "source": [
    "<!-- Body Text -->\n",
    "<h4 style=\"font-weight: bold; line-height: 1.6; font-size: 18px; margin-top: 0; margin-bottom: 0;\"><br>\n",
    "    2. Order of the group\n",
    "</h4><br>\n",
    "<p style=\"font-weight: 400; line-height: 1.6; font-size: 18x; margin-top: 0; margin-bottom: 0;\">\n",
    "    The order of a group is the total number of distinct elements it contains.\n",
    "</p>"
   ]
  },
  {
   "cell_type": "code",
   "execution_count": 11,
   "id": "33471f93",
   "metadata": {},
   "outputs": [
    {
     "name": "stdout",
     "output_type": "stream",
     "text": [
      "Order of the Group: 3\n"
     ]
    }
   ],
   "source": [
    "print(\"Order of the Group:\", G.order())"
   ]
  },
  {
   "cell_type": "markdown",
   "id": "c418d93a",
   "metadata": {},
   "source": [
    "<div style=\"font-size: 18px;\">\n",
    "    The group has 3 unique permutations, thus the order is 3.\n",
    "</div>\n"
   ]
  },
  {
   "cell_type": "markdown",
   "id": "4dee63ff",
   "metadata": {},
   "source": [
    "<!-- Body Text -->\n",
    "<h4 style=\"font-weight: bold; line-height: 1.6; font-size: 18px; margin-top: 0; margin-bottom: 0;\"><br>\n",
    "    3. Finding group elements\n",
    "</h4><br>\n",
    "<p style=\"font-weight: 400; line-height: 1.6; font-size: 18x; margin-top: 0; margin-bottom: 0;\">\n",
    "    The .generate() method lists all permutations in the group.\n",
    "</p>"
   ]
  },
  {
   "cell_type": "code",
   "execution_count": 12,
   "id": "407f5179",
   "metadata": {},
   "outputs": [
    {
     "name": "stdout",
     "output_type": "stream",
     "text": [
      "Elements of the Group: [Permutation(2), Permutation(0, 1, 2), Permutation(0, 2, 1)]\n"
     ]
    }
   ],
   "source": [
    "print(\"Elements of the Group:\", list(G.generate()))"
   ]
  },
  {
   "cell_type": "markdown",
   "id": "09edb4ed",
   "metadata": {},
   "source": [
    "<div style=\"font-size: 18px;\">\n",
    "    It suggests that the group consists of three distinct permutations.\n",
    "</div>\n"
   ]
  },
  {
   "cell_type": "markdown",
   "id": "d4114985",
   "metadata": {},
   "source": [
    "<!-- Body Text -->\n",
    "<h4 style=\"font-weight: bold; line-height: 1.6; font-size: 18px; margin-top: 0; margin-bottom: 0;\"><br>\n",
    "    4. Permutation Check\n",
    "</h4><br>\n",
    "<p style=\"font-weight: 400; line-height: 1.6; font-size: 18x; margin-top: 0; margin-bottom: 0;\">\n",
    "    Checking If a Permutation is in the Group\n",
    "</p>"
   ]
  },
  {
   "cell_type": "code",
   "execution_count": 13,
   "id": "38368933",
   "metadata": {},
   "outputs": [
    {
     "name": "stdout",
     "output_type": "stream",
     "text": [
      "Is p_test in the Group? False\n"
     ]
    }
   ],
   "source": [
    "p_test = Permutation([2, 1, 0])  \n",
    "print(\"Is p_test in the Group?\", p_test in G)\n"
   ]
  }
 ],
 "metadata": {
  "colab": {
   "provenance": []
  },
  "kernelspec": {
   "display_name": "Python 3",
   "language": "python",
   "name": "python3"
  },
  "language_info": {
   "codemirror_mode": {
    "name": "ipython",
    "version": 3
   },
   "file_extension": ".py",
   "mimetype": "text/x-python",
   "name": "python",
   "nbconvert_exporter": "python",
   "pygments_lexer": "ipython3",
   "version": "3.12.3"
  }
 },
 "nbformat": 4,
 "nbformat_minor": 5
}
